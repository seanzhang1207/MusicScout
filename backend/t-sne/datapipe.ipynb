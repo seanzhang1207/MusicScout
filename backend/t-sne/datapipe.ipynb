{
 "cells": [
  {
   "cell_type": "code",
   "execution_count": 1,
   "metadata": {},
   "outputs": [
    {
     "name": "stdout",
     "output_type": "stream",
     "text": [
      "True\n"
     ]
    }
   ],
   "source": [
    "import tensorflow as tf\n",
    "tf.enable_eager_execution()\n",
    "# Check eager execution is enabled\n",
    "print(tf.executing_eagerly())        # => True"
   ]
  },
  {
   "cell_type": "markdown",
   "metadata": {},
   "source": [
    "## Prepare file paths\n",
    "\n",
    "Set `DATASET_PATH` to your dataset folder. It should have the following structure, otherwise there might be errors.\n",
    "```\n",
    "DATASET_PATH/\n",
    "|\n",
    "+- mp3/\n",
    "|  +- MP3 files\n",
    "|\n",
    "+- wav/\n",
    "|  +- For storing wav files\n",
    "|\n",
    "+- melspecs/\n",
    "|  +- Converted mel-spectrums. Vary in length (64 x something)\n",
    "|\n",
    "+- zoomed/\n",
    "|  +- Zoomed 64x5000 matrices. Not used as of now.\n",
    "|\n",
    "+- flat/\n",
    "   +- Final, cropped and flattened 1x320000 vectors.\n",
    "```\n",
    "\n",
    "Only the `mp3` folder needs to have files it. Other folder can be empty, and will be populated by code below."
   ]
  },
  {
   "cell_type": "code",
   "execution_count": 2,
   "metadata": {},
   "outputs": [],
   "source": [
    "from os.path import join, split, splitext\n",
    "from glob import glob\n",
    "\n",
    "DATASET_PATH = '/home/sean/Storage/Datasets/Birp'\n",
    "MP3_PATH = join(DATASET_PATH, 'mp3')\n",
    "WAV_PATH = join(DATASET_PATH, 'wav')\n",
    "MSPEC_PATH = join(DATASET_PATH, 'melspecs')\n",
    "ZOOMED_PATH = join(DATASET_PATH, 'zoomed')\n",
    "FLAT_PATH = join(DATASET_PATH, 'flat')\n",
    "\n",
    "\n",
    "mp3_files = glob(join(MP3_PATH, '*.mp3'))\n",
    "wav_files = glob(join(WAV_PATH, '*.wav'))\n",
    "npy_files = glob(join(MSPEC_PATH, '*.npy'))\n",
    "zoomed_files = glob(join(ZOOMED_PATH, '*.npy'))\n",
    "flat_files = glob(join(FLAT_PATH, '*.npy'))"
   ]
  },
  {
   "cell_type": "markdown",
   "metadata": {},
   "source": [
    "## Demo for mel-spectrum conversion\n",
    "\n",
    "The code below are for demo purposes save for the `read_waveform` function."
   ]
  },
  {
   "cell_type": "code",
   "execution_count": 3,
   "metadata": {},
   "outputs": [],
   "source": [
    "def read_waveform(filepath, sampling_rate=44100):\n",
    "    wav_binary = tf.read_file(filepath)\n",
    "\n",
    "    waveform = tf.contrib.ffmpeg.decode_audio (\n",
    "        wav_binary, \n",
    "        file_format='wav', \n",
    "        samples_per_second=sampling_rate, \n",
    "        channel_count=1\n",
    "    )\n",
    "    \n",
    "    return waveform"
   ]
  },
  {
   "cell_type": "code",
   "execution_count": 4,
   "metadata": {},
   "outputs": [
    {
     "name": "stdout",
     "output_type": "stream",
     "text": [
      "\n",
      "WARNING: The TensorFlow contrib module will not be included in TensorFlow 2.0.\n",
      "For more information, please see:\n",
      "  * https://github.com/tensorflow/community/blob/master/rfcs/20180907-contrib-sunset.md\n",
      "  * https://github.com/tensorflow/addons\n",
      "If you depend on functionality not listed there, please file an issue.\n",
      "\n",
      "WARNING:tensorflow:From <ipython-input-3-f69ca7756a24>:8: decode_audio (from tensorflow.contrib.ffmpeg.ffmpeg_ops) is deprecated and will be removed after 2018-09-04.\n",
      "Instructions for updating:\n",
      "This will be deleted and should not be used.\n",
      "(4299750, 1)\n"
     ]
    },
    {
     "data": {
      "text/plain": [
       "<Figure size 640x480 with 1 Axes>"
      ]
     },
     "metadata": {},
     "output_type": "display_data"
    }
   ],
   "source": [
    "# FOR DEMO PURPOSES\n",
    "\n",
    "import matplotlib.pyplot as plt\n",
    "\n",
    "sampling_rate = 44100\n",
    "\n",
    "waveform = read_waveform(wav_files[0])\n",
    "print(waveform.numpy().shape)\n",
    "\n",
    "# Plot a section of the waveform.\n",
    "plt.plot(waveform.numpy().flatten())\n",
    "plt.show()"
   ]
  },
  {
   "cell_type": "code",
   "execution_count": 5,
   "metadata": {},
   "outputs": [],
   "source": [
    "# FOR DEMO PURPOSES\n",
    "\n",
    "# Reshape the signals to shape of (batch_size, samples).\n",
    "signals = tf.reshape(waveform, [1, -1])\n",
    "\n",
    "# Step 1 : signals->stfts\n",
    "# `stfts` is a complex64 Tensor representing the Short-time Fourier Transform of\n",
    "# each signal in `signals`. Its shape is [batch_size, ?, fft_unique_bins]\n",
    "# where fft_unique_bins = fft_length // 2 + 1 = 513.\n",
    "stfts = tf.contrib.signal.stft(\n",
    "    signals, \n",
    "    frame_length=1024, \n",
    "    frame_step=512, \n",
    "    fft_length=1024\n",
    ")"
   ]
  },
  {
   "cell_type": "code",
   "execution_count": 6,
   "metadata": {},
   "outputs": [],
   "source": [
    "# FOR DEMO PURPOSES\n",
    "\n",
    "# An energy spectrogram is the magnitude of the complex-valued STFT.\n",
    "# A float32 Tensor of shape [batch_size, ?, 513].\n",
    "magnitude_spectrograms = tf.abs(stfts)"
   ]
  },
  {
   "cell_type": "code",
   "execution_count": 7,
   "metadata": {},
   "outputs": [
    {
     "data": {
      "text/plain": [
       "<matplotlib.image.AxesImage at 0x7fbe61fa6c88>"
      ]
     },
     "execution_count": 7,
     "metadata": {},
     "output_type": "execute_result"
    },
    {
     "data": {
      "image/png": "[encoded data removed]",
      "text/plain": [
       "<Figure size 432x288 with 1 Axes>"
      ]
     },
     "metadata": {
      "needs_background": "light"
     },
     "output_type": "display_data"
    }
   ],
   "source": [
    "# FOR DEMO PURPOSES\n",
    "\n",
    "import numpy as np\n",
    "array = magnitude_spectrograms.numpy().astype(np.float)[0]\n",
    "plt.imshow(np.swapaxes(array,0,1))"
   ]
  },
  {
   "cell_type": "code",
   "execution_count": 8,
   "metadata": {
    "scrolled": true
   },
   "outputs": [
    {
     "name": "stdout",
     "output_type": "stream",
     "text": [
      "(1, 8396, 64)\n"
     ]
    },
    {
     "data": {
      "text/plain": [
       "<matplotlib.image.AxesImage at 0x7fbe44159080>"
      ]
     },
     "execution_count": 8,
     "metadata": {},
     "output_type": "execute_result"
    },
    {
     "data": {
      "image/png": "[encoded data removed]",
      "text/plain": [
       "<Figure size 432x288 with 1 Axes>"
      ]
     },
     "metadata": {
      "needs_background": "light"
     },
     "output_type": "display_data"
    }
   ],
   "source": [
    "# FOR DEMO PURPOSES\n",
    "\n",
    "# Warp the linear-scale, magnitude spectrograms into the mel-scale.\n",
    "num_spectrogram_bins = magnitude_spectrograms.shape[-1].value\n",
    "\n",
    "lower_edge_hertz, upper_edge_hertz, num_mel_bins = 80.0, 8000, 64\n",
    "\n",
    "linear_to_mel_weight_matrix = tf.contrib.signal.linear_to_mel_weight_matrix(\n",
    "    num_mel_bins, \n",
    "    num_spectrogram_bins, \n",
    "    sampling_rate, \n",
    "    lower_edge_hertz, \n",
    "    upper_edge_hertz\n",
    ")\n",
    "\n",
    "mel_spectrograms = tf.tensordot(magnitude_spectrograms, linear_to_mel_weight_matrix, 1)\n",
    "\n",
    "print(mel_spectrograms.numpy().shape)\n",
    "\n",
    "array = mel_spectrograms.numpy().astype(np.float)[0]\n",
    "plt.imshow(np.swapaxes(array,0,1))"
   ]
  },
  {
   "cell_type": "code",
   "execution_count": 9,
   "metadata": {},
   "outputs": [
    {
     "name": "stdout",
     "output_type": "stream",
     "text": [
      "(1, 8396, 64)\n",
      "(8396, 64)\n"
     ]
    },
    {
     "data": {
      "text/plain": [
       "<matplotlib.image.AxesImage at 0x7fbe61eef588>"
      ]
     },
     "execution_count": 9,
     "metadata": {},
     "output_type": "execute_result"
    },
    {
     "data": {
      "image/png": "[encoded data removed]",
      "text/plain": [
       "<Figure size 432x288 with 1 Axes>"
      ]
     },
     "metadata": {
      "needs_background": "light"
     },
     "output_type": "display_data"
    }
   ],
   "source": [
    "# FOR DEMO PURPOSES\n",
    "\n",
    "log_offset = 1e-6\n",
    "log_mel_spectrograms = tf.log(mel_spectrograms + log_offset)\n",
    "\n",
    "print(log_mel_spectrograms.numpy().shape)\n",
    "array = log_mel_spectrograms.numpy()[0]\n",
    "print(array.shape)\n",
    "plt.imshow(np.swapaxes(array,0,1))"
   ]
  },
  {
   "cell_type": "markdown",
   "metadata": {},
   "source": [
    "## Process the files"
   ]
  },
  {
   "cell_type": "code",
   "execution_count": null,
   "metadata": {},
   "outputs": [],
   "source": [
    "for mp3 in mp3_files:\n",
    "    mp3_name = splitext(split(mp3)[1])[0]\n",
    "    wav_name = mp3_name + '.wav'\n",
    "    wav_file = join(wav_path, wav_name)\n",
    "\n",
    "    if wav_file not in wav_files:\n",
    "        command = ['ffmpeg', '-i', mp3_file, '-vn', '-acodec', 'pcm_s16le', '-ac', '1', '-ar', '44100', '-f', 'wav', wav_file]\n",
    "        subprocess.run(command)"
   ]
  },
  {
   "cell_type": "code",
   "execution_count": 10,
   "metadata": {},
   "outputs": [],
   "source": [
    "for wav in wav_files:\n",
    "    if join(MSPEC_PATH, splitext(split(wav)[1])[0][6:] + '.npy') not in npy_files:\n",
    "        print('Processing', split(wav)[1], '...')\n",
    "        waveform = read_waveform(wav)\n",
    "        # Reshape the signals to shape of (batch_size, samples).\n",
    "        signals = tf.reshape(waveform, [1, -1])\n",
    "\n",
    "        # Step 1 : signals->stfts\n",
    "        # `stfts` is a complex64 Tensor representing the Short-time Fourier Transform of\n",
    "        # each signal in `signals`. Its shape is [batch_size, ?, fft_unique_bins]\n",
    "        # where fft_unique_bins = fft_length // 2 + 1 = 513.\n",
    "        stfts = tf.contrib.signal.stft(signals, frame_length=1024, frame_step=512, fft_length=1024)\n",
    "\n",
    "        # An energy spectrogram is the magnitude of the complex-valued STFT.\n",
    "        # A float32 Tensor of shape [batch_size, ?, 513].\n",
    "        magnitude_spectrograms = tf.abs(stfts)\n",
    "\n",
    "        # Warp the linear-scale, magnitude spectrograms into the mel-scale.\n",
    "        num_spectrogram_bins = magnitude_spectrograms.shape[-1].value\n",
    "\n",
    "        sampling_rate, lower_edge_hertz, upper_edge_hertz, num_mel_bins = 44100, 80.0, 8000, 64\n",
    "\n",
    "        linear_to_mel_weight_matrix = tf.contrib.signal.linear_to_mel_weight_matrix(\n",
    "            num_mel_bins, \n",
    "            num_spectrogram_bins, \n",
    "            sampling_rate, \n",
    "            lower_edge_hertz, \n",
    "            upper_edge_hertz\n",
    "        )\n",
    "\n",
    "        mel_spectrograms = tf.tensordot(magnitude_spectrograms, linear_to_mel_weight_matrix, 1)\n",
    "\n",
    "        log_offset = 1e-6\n",
    "        log_mel_spectrograms = tf.log(mel_spectrograms + log_offset)\n",
    "\n",
    "        array = log_mel_spectrograms.numpy()[0]\n",
    "        print(array.shape)\n",
    "\n",
    "        np.save(join(MSPEC_PATH, splitext(split(wav)[1])[0][6:] + '.npy'), array)"
   ]
  },
  {
   "cell_type": "code",
   "execution_count": 11,
   "metadata": {},
   "outputs": [],
   "source": [
    "from scipy.ndimage import zoom\n",
    "\n",
    "target_length = 5000\n",
    "\n",
    "for npy in npy_files:\n",
    "    if join(ZOOMED_PATH, split(npy)[1]) not in zoomed_files:\n",
    "        print('Processing', split(npy)[1], '...')\n",
    "        array = np.load(npy)\n",
    "        \n",
    "        zoom_factor = (target_length / array.shape[0], 1.0)\n",
    "        zoomed_array = zoom(array, zoom_factor)[0:target_length, :]\n",
    "        \n",
    "        print(zoomed_array.shape)\n",
    "        \n",
    "        np.save(join(ZOOMED_PATH, split(npy)[1]), zoomed_array)"
   ]
  },
  {
   "cell_type": "code",
   "execution_count": 12,
   "metadata": {},
   "outputs": [],
   "source": [
    "for i, npy in enumerate(npy_files):\n",
    "    if join(FLAT_PATH, split(npy)[1]) not in flat_files:\n",
    "        print('Processing', split(npy)[1], '...')\n",
    "        array = np.load(npy)[:target_length, :]\n",
    "        \n",
    "        flat_array = np.reshape(array, array.shape[0] * array.shape[1])\n",
    "        \n",
    "        print(flat_array.shape)\n",
    "        \n",
    "        np.save(join(FLAT_PATH, split(npy)[1]), flat_array)"
   ]
  }
 ],
 "metadata": {
  "kernelspec": {
   "display_name": "Python 3",
   "language": "python",
   "name": "python3"
  },
  "language_info": {
   "codemirror_mode": {
    "name": "ipython",
    "version": 3
   },
   "file_extension": ".py",
   "mimetype": "text/x-python",
   "name": "python",
   "nbconvert_exporter": "python",
   "pygments_lexer": "ipython3",
   "version": "3.6.8"
  }
 },
 "nbformat": 4,
 "nbformat_minor": 2
}
